{
 "cells": [
  {
   "cell_type": "code",
   "execution_count": 3,
   "metadata": {},
   "outputs": [
    {
     "name": "stdout",
     "output_type": "stream",
     "text": [
      "Requirement already satisfied: paho-mqtt in e:\\anaconda\\lib\\site-packages (1.5.1)\n"
     ]
    }
   ],
   "source": [
    "!pip install paho-mqtt"
   ]
  },
  {
   "cell_type": "code",
   "execution_count": 18,
   "metadata": {},
   "outputs": [],
   "source": [
    "import paho.mqtt.client as mqtt_client"
   ]
  },
  {
   "cell_type": "code",
   "execution_count": null,
   "metadata": {},
   "outputs": [],
   "source": [
    "broker = 'mqtt.eclipseprojects.io'\n",
    "port = 1883\n",
    "topic = \"ivms_data\"\n",
    "client_id = 'ivms_data_python_consumer'\n",
    "\n",
    "def connect_mqtt() -> mqtt_client:\n",
    "    def on_connect(client, userdata, flags, rc):\n",
    "        if rc == 0:\n",
    "            print(\"Connected to MQTT Broker!\")\n",
    "        else:\n",
    "            print(\"Failed to connect, return code %d\\n\", rc)\n",
    "\n",
    "    client = mqtt_client.Client(client_id)\n",
    "    #client.username_pw_set(username, password)\n",
    "    client.on_connect = on_connect\n",
    "    client.connect(broker, port)\n",
    "    print(client)\n",
    "    return client\n",
    "\n",
    "\n",
    "def subscribe(client: mqtt_client):\n",
    "    def on_message(client, userdata, msg):\n",
    "        print(f\"Received `{msg.payload.decode()}` from `{msg.topic}` topic\")\n",
    "\n",
    "    client.subscribe(topic)\n",
    "    \n",
    "    client.on_message = on_message\n",
    "\n",
    "\n",
    "def run():\n",
    "    client = connect_mqtt()\n",
    "    subscribe(client)\n",
    "    client.loop_forever()\n",
    "\n",
    "\n",
    "if __name__ == '__main__':\n",
    "    run()"
   ]
  },
  {
   "cell_type": "code",
   "execution_count": null,
   "metadata": {},
   "outputs": [
    {
     "name": "stdout",
     "output_type": "stream",
     "text": [
      "Received MQTT message:  b'2021-02-16 17:57:19,63015881,65130858,East Marymouth,12.497481,95.633934,Low,Bad,89.27,68.94'\n",
      "Received MQTT message:  b'2021-03-23 01:30:02,74336005,70861464,East Jessicahaven,-79.5154655,-157.367717,Medium,Bad,34.97,16.13'\n",
      "Received MQTT message:  b'2021-07-06 19:54:31,08253293,72588024,Sherriport,-6.3900465,-68.771610,Medium,Good,67.63,.55'\n",
      "Received MQTT message:  b'2021-04-26 12:50:42,14153334,57338637,Port Sarahshire,10.430803,47.692805,Medium,Good,39.72,28.92'\n",
      "Received MQTT message:  b'2021-05-25 05:53:39,89438145,17491990,Michaeltown,-80.6423255,-3.454988,Low,Good,76.91,56.29'\n",
      "Received MQTT message:  b'2021-04-08 09:01:56,05367320,45761256,Port Michaelfurt,-16.9411235,13.422221,High,Average,77.22,213.3'\n",
      "Received MQTT message:  b'2021-03-07 18:38:53,37079017,49608113,Port Amy,78.1336275,6.776240,Medium,Good,18.19,61.25'\n",
      "Received MQTT message:  b'2021-02-22 00:20:20,30756717,44237059,Port Megan,0.4918085,-83.627198,Medium,Good,58.59,34.75'\n",
      "Received MQTT message:  b'2021-04-04 22:04:33,89806371,20475543,West Julieland,53.991656,133.117410,Low,Average,31.15,155.44'\n",
      "Received MQTT message:  b'2021-06-04 02:13:26,09426221,08478252,North Jeffreychester,-84.6381835,23.719635,High,Good,51.71,2.74'\n",
      "Received MQTT message:  b'2021-03-05 00:21:11,53570963,96626603,Scottburgh,-71.227427,81.669296,High,Bad,68.93,198.22'\n",
      "Received MQTT message:  b'2021-06-18 22:09:45,70228700,16709690,East Steven,-52.0330605,-155.116766,High,StopImmediately,43.66,177.63'\n",
      "Received MQTT message:  b'2021-03-14 20:08:54,22501585,85074088,Jordanburgh,-30.9835145,11.858049,Low,Good,75.89,72.33'\n",
      "Received MQTT message:  b'2021-02-13 05:12:48,70687637,82121297,West Joemouth,81.1900255,156.866954,Medium,Average,80.9,135.97'\n",
      "Received MQTT message:  b'2021-01-08 10:26:02,20752880,36948352,East Amber,-54.2817245,-59.225036,Low,StopImmediately,20.5,157.28'\n",
      "Received MQTT message:  b'2021-06-16 09:58:09,69394232,44099749,New Carolyn,25.4670455,-76.515384,High,Average,39.82,174.99'\n",
      "Received MQTT message:  b'2021-06-17 22:50:20,46905888,53345332,Maryport,33.911088,-21.362298,Low,Good,5.78,43.43'\n",
      "Received MQTT message:  b'2021-07-14 11:56:26,40839998,52140723,Villarrealfurt,-51.636605,166.537972,Low,Bad,49.21,145.68'\n",
      "Received MQTT message:  b'2021-03-24 20:04:01,19497303,93706056,Lake Paulfort,-17.1343645,105.748808,Medium,StopImmediately,81.31,152.13'\n",
      "Received MQTT message:  b'2021-06-19 04:04:52,27537176,94424676,Santiagoborough,-15.3143585,-65.436976,Low,Bad,21.58,194.42'\n",
      "Received MQTT message:  b'2021-02-02 05:24:42,45883088,11143147,Davidstad,37.4776975,171.094136,Medium,Average,58.3,13.3'\n",
      "Received MQTT message:  b'2021-07-14 02:03:35,29194360,66834922,Kimberlyberg,-27.473580,135.182760,Low,Bad,48.21,5.94'\n",
      "Received MQTT message:  b'2021-06-11 21:19:51,74783458,14246609,New Eric,-84.8674495,-77.700191,High,Good,7.14,206.73'\n",
      "Received MQTT message:  b'2021-01-05 01:11:34,09935020,10482179,Wilsonstad,12.2800485,105.733342,Low,Average,25.81,112.81'\n",
      "Received MQTT message:  b'2021-04-30 09:23:15,32865677,52560682,Port Sheri,-4.931707,-102.911741,Low,Average,81.99,125.94'\n",
      "Received MQTT message:  b'2021-07-09 12:03:10,36453733,25500813,New Billy,49.0493735,-127.772388,Low,Bad,42.22,6.58'\n",
      "Received MQTT message:  b'2021-05-22 18:53:49,24390842,38434600,Jamesville,76.554267,75.053508,Medium,Good,58.1,180.69'\n",
      "Received MQTT message:  b'2021-08-03 07:27:17,51205812,20900168,Port Joshua,80.876387,-40.214362,Medium,Bad,88.73,85.04'\n"
     ]
    }
   ],
   "source": [
    "import time\n",
    "\n",
    "mqtt_broker = \"mqtt.eclipseprojects.io\"\n",
    "mqtt_client = mqtt.Client(\"ivms_data_python_consumer\")\n",
    "mqtt_client.connect(mqtt_broker)\n",
    "\n",
    "def on_message(client, userdata, message):\n",
    "    msg_payload = str(message.payload)\n",
    "    print(\"Received MQTT message: \", msg_payload)\n",
    "\n",
    "mqtt_client.loop_start()\n",
    "mqtt_client.subscribe(\"ivmsdata\")\n",
    "mqtt_client.on_message = on_message\n",
    "time.sleep(300)\n",
    "mqtt_client.loop_end()"
   ]
  }
 ],
 "metadata": {
  "kernelspec": {
   "display_name": "Python 3",
   "language": "python",
   "name": "python3"
  },
  "language_info": {
   "codemirror_mode": {
    "name": "ipython",
    "version": 3
   },
   "file_extension": ".py",
   "mimetype": "text/x-python",
   "name": "python",
   "nbconvert_exporter": "python",
   "pygments_lexer": "ipython3",
   "version": "3.7.6"
  }
 },
 "nbformat": 4,
 "nbformat_minor": 4
}
